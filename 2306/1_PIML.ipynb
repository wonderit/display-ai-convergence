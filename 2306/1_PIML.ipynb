{
 "cells": [
  {
   "cell_type": "markdown",
   "metadata": {},
   "source": [
    "*Lab 1: Simple Example*\n",
    "- Let's look at the ODE:\n",
    "$$\\frac{du}{dt}=\\cos{2\\pi t} $$\n",
    "- Initial condition:\n",
    "$$u(0)=1$$\n",
    "- The exact solution:\n",
    "$$u(t)=\\frac{1}{2\\pi}\\sin{2\\pi}t+1$$\n",
    "- Make a neural network and loss functions like below:\n",
    "<center><img src=\"images/pinn.png\" width=800></center>"
   ]
  },
  {
   "cell_type": "code",
   "execution_count": null,
   "metadata": {
    "collapsed": true,
    "pycharm": {
     "is_executing": true
    }
   },
   "outputs": [],
   "source": []
  },
  {
   "cell_type": "code",
   "execution_count": null,
   "metadata": {},
   "outputs": [],
   "source": []
  }
 ],
 "metadata": {
  "kernelspec": {
   "display_name": "Python 3 (ipykernel)",
   "language": "python",
   "name": "python3"
  },
  "language_info": {
   "codemirror_mode": {
    "name": "ipython",
    "version": 3
   },
   "file_extension": ".py",
   "mimetype": "text/x-python",
   "name": "python",
   "nbconvert_exporter": "python",
   "pygments_lexer": "ipython3",
   "version": "3.8.16"
  }
 },
 "nbformat": 4,
 "nbformat_minor": 1
}
